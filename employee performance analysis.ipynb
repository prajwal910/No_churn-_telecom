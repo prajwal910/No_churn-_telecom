{
 "cells": [
  {
   "cell_type": "code",
   "execution_count": 2,
   "metadata": {},
   "outputs": [],
   "source": [
    "import pandas as pd\n",
    "import numpy as np\n",
    "from collections  import Counter \n",
    "import matplotlib.pyplot as plt\n",
    "import seaborn as sns"
   ]
  },
  {
   "cell_type": "code",
   "execution_count": 3,
   "metadata": {},
   "outputs": [],
   "source": [
    "data_set=pd.read_csv('INX_Future_Inc_Employee_Performance_CDS_Project2_Data_V1.8.csv')"
   ]
  },
  {
   "cell_type": "code",
   "execution_count": 4,
   "metadata": {},
   "outputs": [
    {
     "data": {
      "text/html": [
       "<div>\n",
       "<style scoped>\n",
       "    .dataframe tbody tr th:only-of-type {\n",
       "        vertical-align: middle;\n",
       "    }\n",
       "\n",
       "    .dataframe tbody tr th {\n",
       "        vertical-align: top;\n",
       "    }\n",
       "\n",
       "    .dataframe thead th {\n",
       "        text-align: right;\n",
       "    }\n",
       "</style>\n",
       "<table border=\"1\" class=\"dataframe\">\n",
       "  <thead>\n",
       "    <tr style=\"text-align: right;\">\n",
       "      <th></th>\n",
       "      <th>EmpNumber</th>\n",
       "      <th>Age</th>\n",
       "      <th>Gender</th>\n",
       "      <th>EducationBackground</th>\n",
       "      <th>MaritalStatus</th>\n",
       "      <th>EmpDepartment</th>\n",
       "      <th>EmpJobRole</th>\n",
       "      <th>BusinessTravelFrequency</th>\n",
       "      <th>DistanceFromHome</th>\n",
       "      <th>EmpEducationLevel</th>\n",
       "      <th>...</th>\n",
       "      <th>EmpRelationshipSatisfaction</th>\n",
       "      <th>TotalWorkExperienceInYears</th>\n",
       "      <th>TrainingTimesLastYear</th>\n",
       "      <th>EmpWorkLifeBalance</th>\n",
       "      <th>ExperienceYearsAtThisCompany</th>\n",
       "      <th>ExperienceYearsInCurrentRole</th>\n",
       "      <th>YearsSinceLastPromotion</th>\n",
       "      <th>YearsWithCurrManager</th>\n",
       "      <th>Attrition</th>\n",
       "      <th>PerformanceRating</th>\n",
       "    </tr>\n",
       "  </thead>\n",
       "  <tbody>\n",
       "    <tr>\n",
       "      <th>0</th>\n",
       "      <td>E1001000</td>\n",
       "      <td>32</td>\n",
       "      <td>Male</td>\n",
       "      <td>Marketing</td>\n",
       "      <td>Single</td>\n",
       "      <td>Sales</td>\n",
       "      <td>Sales Executive</td>\n",
       "      <td>Travel_Rarely</td>\n",
       "      <td>10</td>\n",
       "      <td>3</td>\n",
       "      <td>...</td>\n",
       "      <td>4</td>\n",
       "      <td>10</td>\n",
       "      <td>2</td>\n",
       "      <td>2</td>\n",
       "      <td>10</td>\n",
       "      <td>7</td>\n",
       "      <td>0</td>\n",
       "      <td>8</td>\n",
       "      <td>No</td>\n",
       "      <td>3</td>\n",
       "    </tr>\n",
       "    <tr>\n",
       "      <th>1</th>\n",
       "      <td>E1001006</td>\n",
       "      <td>47</td>\n",
       "      <td>Male</td>\n",
       "      <td>Marketing</td>\n",
       "      <td>Single</td>\n",
       "      <td>Sales</td>\n",
       "      <td>Sales Executive</td>\n",
       "      <td>Travel_Rarely</td>\n",
       "      <td>14</td>\n",
       "      <td>4</td>\n",
       "      <td>...</td>\n",
       "      <td>4</td>\n",
       "      <td>20</td>\n",
       "      <td>2</td>\n",
       "      <td>3</td>\n",
       "      <td>7</td>\n",
       "      <td>7</td>\n",
       "      <td>1</td>\n",
       "      <td>7</td>\n",
       "      <td>No</td>\n",
       "      <td>3</td>\n",
       "    </tr>\n",
       "    <tr>\n",
       "      <th>2</th>\n",
       "      <td>E1001007</td>\n",
       "      <td>40</td>\n",
       "      <td>Male</td>\n",
       "      <td>Life Sciences</td>\n",
       "      <td>Married</td>\n",
       "      <td>Sales</td>\n",
       "      <td>Sales Executive</td>\n",
       "      <td>Travel_Frequently</td>\n",
       "      <td>5</td>\n",
       "      <td>4</td>\n",
       "      <td>...</td>\n",
       "      <td>3</td>\n",
       "      <td>20</td>\n",
       "      <td>2</td>\n",
       "      <td>3</td>\n",
       "      <td>18</td>\n",
       "      <td>13</td>\n",
       "      <td>1</td>\n",
       "      <td>12</td>\n",
       "      <td>No</td>\n",
       "      <td>4</td>\n",
       "    </tr>\n",
       "    <tr>\n",
       "      <th>3</th>\n",
       "      <td>E1001009</td>\n",
       "      <td>41</td>\n",
       "      <td>Male</td>\n",
       "      <td>Human Resources</td>\n",
       "      <td>Divorced</td>\n",
       "      <td>Human Resources</td>\n",
       "      <td>Manager</td>\n",
       "      <td>Travel_Rarely</td>\n",
       "      <td>10</td>\n",
       "      <td>4</td>\n",
       "      <td>...</td>\n",
       "      <td>2</td>\n",
       "      <td>23</td>\n",
       "      <td>2</td>\n",
       "      <td>2</td>\n",
       "      <td>21</td>\n",
       "      <td>6</td>\n",
       "      <td>12</td>\n",
       "      <td>6</td>\n",
       "      <td>No</td>\n",
       "      <td>3</td>\n",
       "    </tr>\n",
       "    <tr>\n",
       "      <th>4</th>\n",
       "      <td>E1001010</td>\n",
       "      <td>60</td>\n",
       "      <td>Male</td>\n",
       "      <td>Marketing</td>\n",
       "      <td>Single</td>\n",
       "      <td>Sales</td>\n",
       "      <td>Sales Executive</td>\n",
       "      <td>Travel_Rarely</td>\n",
       "      <td>16</td>\n",
       "      <td>4</td>\n",
       "      <td>...</td>\n",
       "      <td>4</td>\n",
       "      <td>10</td>\n",
       "      <td>1</td>\n",
       "      <td>3</td>\n",
       "      <td>2</td>\n",
       "      <td>2</td>\n",
       "      <td>2</td>\n",
       "      <td>2</td>\n",
       "      <td>No</td>\n",
       "      <td>3</td>\n",
       "    </tr>\n",
       "  </tbody>\n",
       "</table>\n",
       "<p>5 rows × 28 columns</p>\n",
       "</div>"
      ],
      "text/plain": [
       "  EmpNumber  Age Gender EducationBackground MaritalStatus    EmpDepartment  \\\n",
       "0  E1001000   32   Male           Marketing        Single            Sales   \n",
       "1  E1001006   47   Male           Marketing        Single            Sales   \n",
       "2  E1001007   40   Male       Life Sciences       Married            Sales   \n",
       "3  E1001009   41   Male     Human Resources      Divorced  Human Resources   \n",
       "4  E1001010   60   Male           Marketing        Single            Sales   \n",
       "\n",
       "        EmpJobRole BusinessTravelFrequency  DistanceFromHome  \\\n",
       "0  Sales Executive           Travel_Rarely                10   \n",
       "1  Sales Executive           Travel_Rarely                14   \n",
       "2  Sales Executive       Travel_Frequently                 5   \n",
       "3          Manager           Travel_Rarely                10   \n",
       "4  Sales Executive           Travel_Rarely                16   \n",
       "\n",
       "   EmpEducationLevel        ...          EmpRelationshipSatisfaction  \\\n",
       "0                  3        ...                                    4   \n",
       "1                  4        ...                                    4   \n",
       "2                  4        ...                                    3   \n",
       "3                  4        ...                                    2   \n",
       "4                  4        ...                                    4   \n",
       "\n",
       "   TotalWorkExperienceInYears  TrainingTimesLastYear  EmpWorkLifeBalance  \\\n",
       "0                          10                      2                   2   \n",
       "1                          20                      2                   3   \n",
       "2                          20                      2                   3   \n",
       "3                          23                      2                   2   \n",
       "4                          10                      1                   3   \n",
       "\n",
       "   ExperienceYearsAtThisCompany  ExperienceYearsInCurrentRole  \\\n",
       "0                            10                             7   \n",
       "1                             7                             7   \n",
       "2                            18                            13   \n",
       "3                            21                             6   \n",
       "4                             2                             2   \n",
       "\n",
       "  YearsSinceLastPromotion  YearsWithCurrManager  Attrition  PerformanceRating  \n",
       "0                       0                     8         No                  3  \n",
       "1                       1                     7         No                  3  \n",
       "2                       1                    12         No                  4  \n",
       "3                      12                     6         No                  3  \n",
       "4                       2                     2         No                  3  \n",
       "\n",
       "[5 rows x 28 columns]"
      ]
     },
     "execution_count": 4,
     "metadata": {},
     "output_type": "execute_result"
    }
   ],
   "source": [
    "data_set.head()"
   ]
  },
  {
   "cell_type": "code",
   "execution_count": null,
   "metadata": {},
   "outputs": [],
   "source": []
  },
  {
   "cell_type": "code",
   "execution_count": 5,
   "metadata": {
    "scrolled": true
   },
   "outputs": [
    {
     "data": {
      "text/plain": [
       "<matplotlib.axes._subplots.AxesSubplot at 0x2268b9cc50>"
      ]
     },
     "execution_count": 5,
     "metadata": {},
     "output_type": "execute_result"
    },
    {
     "data": {
      "image/png": "[encoded data removed]",
      "text/plain": [
       "<Figure size 576x576 with 1 Axes>"
      ]
     },
     "metadata": {
      "needs_background": "light"
     },
     "output_type": "display_data"
    }
   ],
   "source": [
    "plt.figure(figsize=(12,8))\n",
    "sns.countplot(x=\"EducationBackground\", data=data)\n"
   ]
  },
  {
   "cell_type": "code",
   "execution_count": 6,
   "metadata": {
    "scrolled": true
   },
   "outputs": [
    {
     "data": {
      "text/plain": [
       "Counter({'Sales': 373,\n",
       "         'Human Resources': 54,\n",
       "         'Development': 361,\n",
       "         'Data Science': 20,\n",
       "         'Research & Development': 343,\n",
       "         'Finance': 49})"
      ]
     },
     "execution_count": 6,
     "metadata": {},
     "output_type": "execute_result"
    }
   ],
   "source": [
    "Counter(data_set.EmpDepartment)"
   ]
  },
  {
   "cell_type": "code",
   "execution_count": null,
   "metadata": {},
   "outputs": [],
   "source": []
  },
  {
   "cell_type": "code",
   "execution_count": null,
   "metadata": {},
   "outputs": [],
   "source": []
  },
  {
   "cell_type": "code",
   "execution_count": 7,
   "metadata": {},
   "outputs": [
    {
     "data": {
      "text/plain": [
       "<matplotlib.axes._subplots.AxesSubplot at 0x226c4d9588>"
      ]
     },
     "execution_count": 7,
     "metadata": {},
     "output_type": "execute_result"
    },
    {
     "data": {
      "image/png": "[encoded data removed]",
      "text/plain": [
       "<Figure size 432x288 with 1 Axes>"
      ]
     },
     "metadata": {
      "needs_background": "light"
     },
     "output_type": "display_data"
    }
   ],
   "source": [
    "data_set['Age'].plot(kind='hist')"
   ]
  },
  {
   "cell_type": "code",
   "execution_count": 8,
   "metadata": {},
   "outputs": [
    {
     "data": {
      "text/plain": [
       "EmpNumber                       False\n",
       "Age                             False\n",
       "Gender                          False\n",
       "EducationBackground             False\n",
       "MaritalStatus                   False\n",
       "EmpDepartment                   False\n",
       "EmpJobRole                      False\n",
       "BusinessTravelFrequency         False\n",
       "DistanceFromHome                False\n",
       "EmpEducationLevel               False\n",
       "EmpEnvironmentSatisfaction      False\n",
       "EmpHourlyRate                   False\n",
       "EmpJobInvolvement               False\n",
       "EmpJobLevel                     False\n",
       "EmpJobSatisfaction              False\n",
       "NumCompaniesWorked              False\n",
       "OverTime                        False\n",
       "EmpLastSalaryHikePercent        False\n",
       "EmpRelationshipSatisfaction     False\n",
       "TotalWorkExperienceInYears      False\n",
       "TrainingTimesLastYear           False\n",
       "EmpWorkLifeBalance              False\n",
       "ExperienceYearsAtThisCompany    False\n",
       "ExperienceYearsInCurrentRole    False\n",
       "YearsSinceLastPromotion         False\n",
       "YearsWithCurrManager            False\n",
       "Attrition                       False\n",
       "PerformanceRating               False\n",
       "dtype: bool"
      ]
     },
     "execution_count": 8,
     "metadata": {},
     "output_type": "execute_result"
    }
   ],
   "source": [
    "data_set.isnull().any()"
   ]
  },
  {
   "cell_type": "code",
   "execution_count": 11,
   "metadata": {},
   "outputs": [],
   "source": [
    "\n",
    "#data.PerformanceRating "
   ]
  },
  {
   "cell_type": "code",
   "execution_count": 9,
   "metadata": {},
   "outputs": [
    {
     "name": "stdout",
     "output_type": "stream",
     "text": [
      "<class 'pandas.core.frame.DataFrame'>\n",
      "RangeIndex: 1200 entries, 0 to 1199\n",
      "Data columns (total 28 columns):\n",
      "EmpNumber                       1200 non-null object\n",
      "Age                             1200 non-null int64\n",
      "Gender                          1200 non-null object\n",
      "EducationBackground             1200 non-null object\n",
      "MaritalStatus                   1200 non-null object\n",
      "EmpDepartment                   1200 non-null object\n",
      "EmpJobRole                      1200 non-null object\n",
      "BusinessTravelFrequency         1200 non-null object\n",
      "DistanceFromHome                1200 non-null int64\n",
      "EmpEducationLevel               1200 non-null int64\n",
      "EmpEnvironmentSatisfaction      1200 non-null int64\n",
      "EmpHourlyRate                   1200 non-null int64\n",
      "EmpJobInvolvement               1200 non-null int64\n",
      "EmpJobLevel                     1200 non-null int64\n",
      "EmpJobSatisfaction              1200 non-null int64\n",
      "NumCompaniesWorked              1200 non-null int64\n",
      "OverTime                        1200 non-null object\n",
      "EmpLastSalaryHikePercent        1200 non-null int64\n",
      "EmpRelationshipSatisfaction     1200 non-null int64\n",
      "TotalWorkExperienceInYears      1200 non-null int64\n",
      "TrainingTimesLastYear           1200 non-null int64\n",
      "EmpWorkLifeBalance              1200 non-null int64\n",
      "ExperienceYearsAtThisCompany    1200 non-null int64\n",
      "ExperienceYearsInCurrentRole    1200 non-null int64\n",
      "YearsSinceLastPromotion         1200 non-null int64\n",
      "YearsWithCurrManager            1200 non-null int64\n",
      "Attrition                       1200 non-null object\n",
      "PerformanceRating               1200 non-null int64\n",
      "dtypes: int64(19), object(9)\n",
      "memory usage: 262.6+ KB\n"
     ]
    }
   ],
   "source": [
    "data_set.info()"
   ]
  },
  {
   "cell_type": "code",
   "execution_count": null,
   "metadata": {},
   "outputs": [],
   "source": []
  },
  {
   "cell_type": "code",
   "execution_count": null,
   "metadata": {},
   "outputs": [],
   "source": []
  },
  {
   "cell_type": "code",
   "execution_count": 10,
   "metadata": {},
   "outputs": [],
   "source": [
    "from sklearn.preprocessing import LabelEncoder"
   ]
  },
  {
   "cell_type": "code",
   "execution_count": 11,
   "metadata": {},
   "outputs": [],
   "source": [
    "enc=LabelEncoder()"
   ]
  },
  {
   "cell_type": "code",
   "execution_count": 12,
   "metadata": {},
   "outputs": [],
   "source": [
    "data_set.EducationBackground= enc.fit_transform(data_set.EducationBackground)\n",
    "data_set.Gender= enc.fit_transform(data_set.Gender)\n",
    "data_set.MaritalStatus= enc.fit_transform(data_set.MaritalStatus)\n",
    "data_set.EmpDepartment= enc.fit_transform(data_set.EmpDepartment)\n",
    "data_set.EmpJobRole= enc.fit_transform(data_set.EmpJobRole)\n",
    "data_set.BusinessTravelFrequency= enc.fit_transform(data_set.BusinessTravelFrequency)\n",
    "data_set.Attrition = enc.fit_transform(data_set.Attrition)\n",
    "data_set.OverTime= enc.fit_transform(data_set.OverTime)"
   ]
  },
  {
   "cell_type": "code",
   "execution_count": 13,
   "metadata": {},
   "outputs": [],
   "source": [
    "\n",
    "X=data_set.iloc[:,1:27]\n",
    "y=data_set.PerformanceRating"
   ]
  },
  {
   "cell_type": "code",
   "execution_count": 14,
   "metadata": {},
   "outputs": [],
   "source": [
    "from sklearn.model_selection import train_test_split"
   ]
  },
  {
   "cell_type": "code",
   "execution_count": 15,
   "metadata": {},
   "outputs": [],
   "source": [
    "X_train,X_test,y_train,y_test= train_test_split(X,y,test_size=.20,random_state=27)"
   ]
  },
  {
   "cell_type": "code",
   "execution_count": 16,
   "metadata": {},
   "outputs": [
    {
     "name": "stderr",
     "output_type": "stream",
     "text": [
      "C:\\Users\\user\\Anaconda3\\lib\\site-packages\\sklearn\\ensemble\\weight_boosting.py:29: DeprecationWarning: numpy.core.umath_tests is an internal NumPy module and should not be imported. It will be removed in a future NumPy release.\n",
      "  from numpy.core.umath_tests import inner1d\n"
     ]
    }
   ],
   "source": [
    "from sklearn.ensemble import RandomForestClassifier"
   ]
  },
  {
   "cell_type": "code",
   "execution_count": 17,
   "metadata": {},
   "outputs": [],
   "source": [
    "model=RandomForestClassifier(random_state=10,n_jobs=2,\n",
    "            oob_score=True,n_estimators=27)"
   ]
  },
  {
   "cell_type": "code",
   "execution_count": null,
   "metadata": {},
   "outputs": [],
   "source": []
  },
  {
   "cell_type": "code",
   "execution_count": 18,
   "metadata": {},
   "outputs": [
    {
     "data": {
      "text/plain": [
       "RandomForestClassifier(bootstrap=True, class_weight=None, criterion='gini',\n",
       "            max_depth=None, max_features='auto', max_leaf_nodes=None,\n",
       "            min_impurity_decrease=0.0, min_impurity_split=None,\n",
       "            min_samples_leaf=1, min_samples_split=2,\n",
       "            min_weight_fraction_leaf=0.0, n_estimators=27, n_jobs=2,\n",
       "            oob_score=True, random_state=10, verbose=0, warm_start=False)"
      ]
     },
     "execution_count": 18,
     "metadata": {},
     "output_type": "execute_result"
    }
   ],
   "source": [
    "model.fit(X_train,y_train)"
   ]
  },
  {
   "cell_type": "code",
   "execution_count": 19,
   "metadata": {},
   "outputs": [
    {
     "data": {
      "text/plain": [
       "array([0.02971172, 0.00693028, 0.01544472, 0.01093859, 0.03361675,\n",
       "       0.04234056, 0.00701439, 0.02931397, 0.02240226, 0.18774545,\n",
       "       0.03485085, 0.01025775, 0.01551749, 0.01568516, 0.0179752 ,\n",
       "       0.00545254, 0.20445799, 0.01725582, 0.02795691, 0.01667914,\n",
       "       0.03091434, 0.03652527, 0.03729412, 0.10491297, 0.03146872,\n",
       "       0.00733706])"
      ]
     },
     "execution_count": 19,
     "metadata": {},
     "output_type": "execute_result"
    }
   ],
   "source": [
    "model.feature_importances_"
   ]
  },
  {
   "cell_type": "code",
   "execution_count": 20,
   "metadata": {},
   "outputs": [],
   "source": [
    "predict=model.predict(X_test)"
   ]
  },
  {
   "cell_type": "code",
   "execution_count": 21,
   "metadata": {},
   "outputs": [],
   "source": [
    "from sklearn.metrics import accuracy_score,confusion_matrix"
   ]
  },
  {
   "cell_type": "code",
   "execution_count": 22,
   "metadata": {},
   "outputs": [
    {
     "data": {
      "text/plain": [
       "0.95"
      ]
     },
     "execution_count": 22,
     "metadata": {},
     "output_type": "execute_result"
    }
   ],
   "source": [
    "accuracy_score(y_test,predict)"
   ]
  },
  {
   "cell_type": "code",
   "execution_count": 23,
   "metadata": {},
   "outputs": [
    {
     "data": {
      "text/plain": [
       "array([[ 41,   2,   0],\n",
       "       [  4, 169,   0],\n",
       "       [  0,   6,  18]], dtype=int64)"
      ]
     },
     "execution_count": 23,
     "metadata": {},
     "output_type": "execute_result"
    }
   ],
   "source": [
    "confusion_matrix(y_test,predict)"
   ]
  },
  {
   "cell_type": "code",
   "execution_count": 24,
   "metadata": {},
   "outputs": [
    {
     "data": {
      "text/html": [
       "<div>\n",
       "<style scoped>\n",
       "    .dataframe tbody tr th:only-of-type {\n",
       "        vertical-align: middle;\n",
       "    }\n",
       "\n",
       "    .dataframe tbody tr th {\n",
       "        vertical-align: top;\n",
       "    }\n",
       "\n",
       "    .dataframe thead th {\n",
       "        text-align: right;\n",
       "    }\n",
       "</style>\n",
       "<table border=\"1\" class=\"dataframe\">\n",
       "  <thead>\n",
       "    <tr style=\"text-align: right;\">\n",
       "      <th>col_0</th>\n",
       "      <th>2</th>\n",
       "      <th>3</th>\n",
       "      <th>4</th>\n",
       "    </tr>\n",
       "    <tr>\n",
       "      <th>PerformanceRating</th>\n",
       "      <th></th>\n",
       "      <th></th>\n",
       "      <th></th>\n",
       "    </tr>\n",
       "  </thead>\n",
       "  <tbody>\n",
       "    <tr>\n",
       "      <th>2</th>\n",
       "      <td>41</td>\n",
       "      <td>2</td>\n",
       "      <td>0</td>\n",
       "    </tr>\n",
       "    <tr>\n",
       "      <th>3</th>\n",
       "      <td>4</td>\n",
       "      <td>169</td>\n",
       "      <td>0</td>\n",
       "    </tr>\n",
       "    <tr>\n",
       "      <th>4</th>\n",
       "      <td>0</td>\n",
       "      <td>6</td>\n",
       "      <td>18</td>\n",
       "    </tr>\n",
       "  </tbody>\n",
       "</table>\n",
       "</div>"
      ],
      "text/plain": [
       "col_0               2    3   4\n",
       "PerformanceRating             \n",
       "2                  41    2   0\n",
       "3                   4  169   0\n",
       "4                   0    6  18"
      ]
     },
     "execution_count": 24,
     "metadata": {},
     "output_type": "execute_result"
    }
   ],
   "source": [
    "pd.crosstab(y_test,predict)"
   ]
  },
  {
   "cell_type": "code",
   "execution_count": null,
   "metadata": {},
   "outputs": [],
   "source": []
  },
  {
   "cell_type": "code",
   "execution_count": 26,
   "metadata": {},
   "outputs": [],
   "source": [
    "feature_imp=pd.DataFrame(data=model.feature_importances_*100.0,columns=[\"GiniValue\" ])"
   ]
  },
  {
   "cell_type": "code",
   "execution_count": 27,
   "metadata": {},
   "outputs": [],
   "source": [
    "feature_imp.index = X.columns\n",
    "feature_imp.sort_values([\"GiniValue\"] ,axis=0,ascending=False,inplace=True)"
   ]
  },
  {
   "cell_type": "code",
   "execution_count": 28,
   "metadata": {},
   "outputs": [
    {
     "name": "stdout",
     "output_type": "stream",
     "text": [
      "                              GiniValue\n",
      "EmpLastSalaryHikePercent      20.445799\n",
      "EmpEnvironmentSatisfaction    18.774545\n",
      "YearsSinceLastPromotion       10.491297\n",
      "EmpJobRole                     4.234056\n",
      "ExperienceYearsInCurrentRole   3.729412\n"
     ]
    }
   ],
   "source": [
    "print(feature_imp.head())"
   ]
  },
  {
   "cell_type": "code",
   "execution_count": null,
   "metadata": {},
   "outputs": [],
   "source": []
  },
  {
   "cell_type": "code",
   "execution_count": null,
   "metadata": {},
   "outputs": [],
   "source": []
  }
 ],
 "metadata": {
  "kernelspec": {
   "display_name": "Python 3",
   "language": "python",
   "name": "python3"
  }
 },
 "nbformat": 4,
 "nbformat_minor": 2
}
