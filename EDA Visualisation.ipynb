{
 "cells": [
  {
   "cell_type": "code",
   "execution_count": 1,
   "metadata": {},
   "outputs": [],
   "source": [
    "import pandas as pd\n",
    "import numpy as np\n",
    "from collections import Counter\n",
    "from matplotlib import rcParams\n",
    "import matplotlib.pyplot as plt"
   ]
  },
  {
   "cell_type": "code",
   "execution_count": 2,
   "metadata": {},
   "outputs": [],
   "source": [
    "df1=pd.read_csv('1_ITSM_cleansedFile.csv')"
   ]
  },
  {
   "cell_type": "code",
   "execution_count": 3,
   "metadata": {},
   "outputs": [
    {
     "name": "stdout",
     "output_type": "stream",
     "text": [
      "<class 'pandas.core.frame.DataFrame'>\n",
      "RangeIndex: 35846 entries, 0 to 35845\n",
      "Data columns (total 13 columns):\n",
      "c_CI_Cat                        35846 non-null object\n",
      "c_CI_Name                       35846 non-null object\n",
      "c_CI_Subcat                     35846 non-null object\n",
      "c_Closure_Code                  35846 non-null object\n",
      "c_WBS                           35846 non-null object\n",
      "q_No_of_Reassignments           35846 non-null int64\n",
      "q_No_of_Related_Incidents       35846 non-null float64\n",
      "q_No_of_Related_Interactions    35846 non-null float64\n",
      "t_Close_Time                    35846 non-null object\n",
      "t_Open_Time                     35846 non-null object\n",
      "y_Priority                      35846 non-null int64\n",
      "t_ReopenFlag                    35846 non-null float64\n",
      "t_TicketWIPDurationDays         35846 non-null float64\n",
      "dtypes: float64(4), int64(2), object(7)\n",
      "memory usage: 3.6+ MB\n"
     ]
    }
   ],
   "source": [
    "df1.info()"
   ]
  },
  {
   "cell_type": "code",
   "execution_count": 4,
   "metadata": {},
   "outputs": [
    {
     "data": {
      "text/plain": [
       "Index(['c_CI_Cat', 'c_CI_Name', 'c_CI_Subcat', 'c_Closure_Code', 'c_WBS',\n",
       "       'q_No_of_Reassignments', 'q_No_of_Related_Incidents',\n",
       "       'q_No_of_Related_Interactions', 't_Close_Time', 't_Open_Time',\n",
       "       'y_Priority', 't_ReopenFlag', 't_TicketWIPDurationDays'],\n",
       "      dtype='object')"
      ]
     },
     "execution_count": 4,
     "metadata": {},
     "output_type": "execute_result"
    }
   ],
   "source": [
    "df1.columns"
   ]
  },
  {
   "cell_type": "code",
   "execution_count": 5,
   "metadata": {},
   "outputs": [
    {
     "name": "stdout",
     "output_type": "stream",
     "text": [
      "          q_No_of_Reassignments  q_No_of_Related_Incidents  \\\n",
      "skew                   4.691278                  50.551020   \n",
      "kurtosis              38.303706                3771.437452   \n",
      "std                    2.208733                   0.666176   \n",
      "mean                   1.068264                   0.051024   \n",
      "min                    0.000000                   0.000000   \n",
      "median                 0.000000                   0.000000   \n",
      "max                   46.000000                  63.000000   \n",
      "\n",
      "          q_No_of_Related_Interactions  t_TicketWIPDurationDays  \n",
      "skew                         90.888270                12.252646  \n",
      "kurtosis                  10330.456008               222.604482  \n",
      "std                           2.883947                19.670985  \n",
      "mean                          1.158790                 5.120241  \n",
      "min                           0.000000                 0.000000  \n",
      "median                        1.000000                 0.737153  \n",
      "max                         370.000000               638.013194  \n"
     ]
    }
   ],
   "source": [
    "lists=['q_No_of_Reassignments', 'q_No_of_Related_Incidents','q_No_of_Related_Interactions','t_TicketWIPDurationDays']\n",
    "stats=df1[lists].agg(['skew','kurtosis','std','mean','min','median','max'])\n",
    "print(stats)"
   ]
  },
  {
   "cell_type": "code",
   "execution_count": 6,
   "metadata": {},
   "outputs": [
    {
     "data": {
      "text/plain": [
       "Counter({4: 22023, 3: 5068, 5: 8321, 2: 431, 1: 3})"
      ]
     },
     "execution_count": 6,
     "metadata": {},
     "output_type": "execute_result"
    }
   ],
   "source": [
    "Counter(df1.y_Priority)"
   ]
  },
  {
   "cell_type": "markdown",
   "metadata": {},
   "source": [
    "# analyse CI category and sub category"
   ]
  },
  {
   "cell_type": "code",
   "execution_count": 7,
   "metadata": {},
   "outputs": [
    {
     "name": "stdout",
     "output_type": "stream",
     "text": [
      "y_Priority                 1       2        3        4        5\n",
      "c_CI_Cat                                                       \n",
      "Phone                 0.0000  0.0028   0.0028   0.0000   0.0000\n",
      "application           0.0028  0.5300  10.8129  42.0131  14.6209\n",
      "applicationcomponent  0.0000  0.0000   0.0084   0.0028   0.0000\n",
      "computer              0.0000  0.4854   0.7839   1.6264   5.4623\n",
      "database              0.0000  0.0000   0.4017   0.0446   0.0195\n",
      "displaydevice         0.0000  0.0000   0.0000   0.4268   0.0279\n",
      "hardware              0.0000  0.0167   0.3933   0.1116   0.4491\n",
      "networkcomponents     0.0000  0.0558   0.0949   0.0753   0.0167\n",
      "officeelectronics     0.0000  0.0000   0.1032   0.1813   0.1032\n",
      "software              0.0000  0.0084   0.3655   0.3097   0.0586\n",
      "storage               0.0000  0.0112   0.5133   0.9485   0.1506\n",
      "subapplication        0.0056  0.0921   0.6584  15.6977   2.3043\n"
     ]
    },
    {
     "data": {
      "text/plain": [
       "<matplotlib.axes._subplots.AxesSubplot at 0x77e58d1518>"
      ]
     },
     "execution_count": 7,
     "metadata": {},
     "output_type": "execute_result"
    },
    {
     "data": {
      "image/png": "[encoded data removed]",
      "text/plain": [
       "<Figure size 720x720 with 1 Axes>"
      ]
     },
     "metadata": {
      "needs_background": "light"
     },
     "output_type": "display_data"
    }
   ],
   "source": [
    "rcParams['figure.figsize']=10,10\n",
    "draw_cat=pd.crosstab(df1.c_CI_Cat,df1.y_Priority,normalize='all').round(6)*100\n",
    "print(draw_cat)\n",
    "draw_cat.plot(kind='barh',grid=True,title=\"Category Vs Priority: Calculated as % Overall records\")"
   ]
  },
  {
   "cell_type": "markdown",
   "metadata": {},
   "source": [
    "# analyse closure code"
   ]
  },
  {
   "cell_type": "code",
   "execution_count": 10,
   "metadata": {},
   "outputs": [
    {
     "name": "stdout",
     "output_type": "stream",
     "text": [
      "y_Priority                           1         2         3         4         5\n",
      "c_Closure_Code                                                                \n",
      "Data                          0.000000  0.060325  0.044396  0.048404  0.017666\n",
      "Hardware                      0.333333  0.257541  0.126677  0.022885  0.187958\n",
      "No error - works as designed  0.000000  0.018561  0.051697  0.069745  0.075231\n",
      "Operator error                0.000000  0.037123  0.029597  0.046270  0.022233\n",
      "Other                         0.333333  0.329466  0.254144  0.322799  0.266314\n",
      "Referred                      0.000000  0.006961  0.004341  0.003406  0.003245\n",
      "Software                      0.333333  0.255220  0.244870  0.366253  0.317029\n",
      "Unknown                       0.000000  0.016241  0.042818  0.033102  0.044586\n",
      "User error                    0.000000  0.018561  0.185478  0.072924  0.035933\n",
      "User manual not used          0.000000  0.000000  0.015983  0.014212  0.029804\n"
     ]
    },
    {
     "data": {
      "text/plain": [
       "<matplotlib.axes._subplots.AxesSubplot at 0x77e6706a90>"
      ]
     },
     "execution_count": 10,
     "metadata": {},
     "output_type": "execute_result"
    },
    {
     "data": {
      "image/png": "[encoded data removed]",
      "text/plain": [
       "<Figure size 720x720 with 1 Axes>"
      ]
     },
     "metadata": {
      "needs_background": "light"
     },
     "output_type": "display_data"
    }
   ],
   "source": [
    "rcParams['figure.figsize']=10,10\n",
    "crosstab_CC=pd.crosstab(df1.c_Closure_Code,df1.y_Priority,normalize='columns')\n",
    "print(crosstab_CC)\n",
    "crosstab_CC.plot(kind='barh',grid=True,title='closure code vs priority')"
   ]
  },
  {
   "cell_type": "markdown",
   "metadata": {},
   "source": [
    "# analyse no of reassignments"
   ]
  },
  {
   "cell_type": "code",
   "execution_count": 11,
   "metadata": {},
   "outputs": [
    {
     "name": "stdout",
     "output_type": "stream",
     "text": [
      "y_Priority             1    2     3      4     5\n",
      "q_No_of_Reassignments                           \n",
      "0                      2  228  3260  13661  4607\n",
      "1                      1  148   890   3611  1252\n",
      "2                      0   28   419   1902  1017\n",
      "3                      0   11   165   1031   492\n",
      "4                      0    6   127    591   348\n",
      "5                      0    3    56    386   149\n",
      "6                      0    2    48    231   145\n",
      "7                      0    0    27    169    83\n",
      "8                      0    1    20    101    59\n",
      "9                      0    2    11     89    30\n",
      "10                     0    2    11     58    28\n",
      "11                     0    0     8     46    24\n",
      "12                     0    0     6     22    12\n",
      "13                     0    0     3     24    18\n",
      "14                     0    0     2     18    10\n",
      "15                     0    0     2     22     9\n",
      "16                     0    0     2      6     8\n",
      "17                     0    0     2     16     5\n",
      "18                     0    0     2      5     5\n",
      "19                     0    0     2      3     3\n",
      "20                     0    0     0      3     4\n",
      "21                     0    0     0      5     5\n",
      "22                     0    0     2      5     2\n",
      "23                     0    0     0      3     1\n",
      "24                     0    0     0      2     0\n",
      "25                     0    0     1      4     1\n",
      "26                     0    0     0      4     0\n",
      "27                     0    0     0      0     1\n",
      "30                     0    0     0      2     0\n",
      "32                     0    0     0      1     1\n",
      "33                     0    0     1      2     0\n",
      "36                     0    0     1      0     0\n",
      "42                     0    0     0      0     1\n",
      "46                     0    0     0      0     1\n"
     ]
    },
    {
     "data": {
      "text/plain": [
       "<matplotlib.axes._subplots.AxesSubplot at 0x77e61bda90>"
      ]
     },
     "execution_count": 11,
     "metadata": {},
     "output_type": "execute_result"
    },
    {
     "data": {
      "image/png": "[encoded data removed]",
      "text/plain": [
       "<Figure size 720x720 with 1 Axes>"
      ]
     },
     "metadata": {
      "needs_background": "light"
     },
     "output_type": "display_data"
    }
   ],
   "source": [
    "rcParams['figure.figsize']=10,10\n",
    "crosstab_NR=pd.crosstab(df1.q_No_of_Reassignments,df1.y_Priority)\n",
    "print(crosstab_NR)\n",
    "crosstab_NR.plot(kind='barh',grid=True,title='reAssignments vs priority')"
   ]
  },
  {
   "cell_type": "markdown",
   "metadata": {},
   "source": [
    "# analyse no of interactions with clients"
   ]
  },
  {
   "cell_type": "code",
   "execution_count": 12,
   "metadata": {},
   "outputs": [
    {
     "name": "stdout",
     "output_type": "stream",
     "text": [
      "y_Priority                    1    2     3      4     5\n",
      "q_No_of_Related_Interactions                           \n",
      "0.0                           0    0     4     40    68\n",
      "1.0                           2  363  4704  20440  7630\n",
      "2.0                           1   25   270   1236   518\n",
      "3.0                           0    7    44    203    61\n",
      "4.0                           0    5    17     41    30\n",
      "5.0                           0    2     4     21     2\n",
      "6.0                           0    4     6      5     0\n",
      "7.0                           0    3     3      5     1\n",
      "8.0                           0    2     1      2     1\n",
      "9.0                           0    1     1      2     1\n",
      "10.0                          0    1     2      0     0\n",
      "11.0                          0    1     0      1     0\n",
      "12.0                          0    3     0      2     0\n",
      "13.0                          0    0     1      1     1\n",
      "14.0                          0    1     0      1     0\n",
      "15.0                          0    0     1      2     0\n",
      "16.0                          0    1     0      1     0\n",
      "17.0                          0    0     0      2     0\n",
      "18.0                          0    0     0      2     0\n",
      "19.0                          0    2     0      1     0\n",
      "20.0                          0    2     1      1     1\n",
      "21.0                          0    0     0      1     0\n",
      "22.0                          0    1     0      1     1\n",
      "23.0                          0    0     0      1     1\n",
      "24.0                          0    0     0      0     1\n",
      "25.0                          0    0     0      1     0\n",
      "27.0                          0    0     1      0     0\n",
      "28.0                          0    0     1      1     0\n",
      "29.0                          0    0     1      1     0\n",
      "30.0                          0    0     0      0     1\n",
      "31.0                          0    0     1      0     0\n",
      "33.0                          0    1     0      0     0\n",
      "34.0                          0    1     1      0     0\n",
      "37.0                          0    1     0      0     0\n",
      "39.0                          0    1     0      1     0\n",
      "40.0                          0    0     0      1     0\n",
      "41.0                          0    0     0      0     1\n",
      "42.0                          0    1     1      1     0\n",
      "43.0                          0    1     0      0     0\n",
      "44.0                          0    1     1      0     0\n",
      "45.0                          0    0     0      0     1\n",
      "54.0                          0    0     0      1     0\n",
      "55.0                          0    0     1      0     0\n",
      "57.0                          0    0     0      1     0\n",
      "74.0                          0    0     0      0     1\n",
      "88.0                          0    0     0      1     0\n",
      "118.0                         0    0     0      1     0\n",
      "288.0                         0    0     0      1     0\n",
      "370.0                         0    0     1      0     0\n"
     ]
    },
    {
     "data": {
      "text/plain": [
       "<matplotlib.axes._subplots.AxesSubplot at 0x77e6af3898>"
      ]
     },
     "execution_count": 12,
     "metadata": {},
     "output_type": "execute_result"
    },
    {
     "data": {
      "image/png": "[encoded data removed]",
      "text/plain": [
       "<Figure size 720x720 with 1 Axes>"
      ]
     },
     "metadata": {
      "needs_background": "light"
     },
     "output_type": "display_data"
    }
   ],
   "source": [
    "rcParams['figure.figsize']=10,10\n",
    "crosstab_NI=pd.crosstab(df1.q_No_of_Related_Interactions,df1.y_Priority)\n",
    "print(crosstab_NI)\n",
    "crosstab_NI.plot(kind='barh',grid=True,title='related interactions vs priority')"
   ]
  },
  {
   "cell_type": "code",
   "execution_count": 15,
   "metadata": {},
   "outputs": [
    {
     "data": {
      "text/html": [
       "<div>\n",
       "<style scoped>\n",
       "    .dataframe tbody tr th:only-of-type {\n",
       "        vertical-align: middle;\n",
       "    }\n",
       "\n",
       "    .dataframe tbody tr th {\n",
       "        vertical-align: top;\n",
       "    }\n",
       "\n",
       "    .dataframe thead th {\n",
       "        text-align: right;\n",
       "    }\n",
       "</style>\n",
       "<table border=\"1\" class=\"dataframe\">\n",
       "  <thead>\n",
       "    <tr style=\"text-align: right;\">\n",
       "      <th></th>\n",
       "      <th>c_CI_Cat</th>\n",
       "      <th>c_Category</th>\n",
       "      <th>c_Closure_Code</th>\n",
       "      <th>c_WBS</th>\n",
       "      <th>q_No_of_Reassignments</th>\n",
       "      <th>q_No_of_Related_Incidents</th>\n",
       "      <th>q_No_of_Related_Interactions</th>\n",
       "      <th>t_Close_Time</th>\n",
       "      <th>t_Open_Time</th>\n",
       "      <th>t_Reopen_Flag</th>\n",
       "      <th>t_Reopen_Time</th>\n",
       "      <th>y_Priority</th>\n",
       "    </tr>\n",
       "  </thead>\n",
       "  <tbody>\n",
       "    <tr>\n",
       "      <th>0</th>\n",
       "      <td>11</td>\n",
       "      <td>incident</td>\n",
       "      <td>4</td>\n",
       "      <td>126</td>\n",
       "      <td>26</td>\n",
       "      <td>2.0</td>\n",
       "      <td>1.0</td>\n",
       "      <td>2013-11-04 13:51:00</td>\n",
       "      <td>2012-02-05 13:32:00</td>\n",
       "      <td>0</td>\n",
       "      <td>NaN</td>\n",
       "      <td>3</td>\n",
       "    </tr>\n",
       "    <tr>\n",
       "      <th>1</th>\n",
       "      <td>1</td>\n",
       "      <td>incident</td>\n",
       "      <td>6</td>\n",
       "      <td>65</td>\n",
       "      <td>33</td>\n",
       "      <td>1.0</td>\n",
       "      <td>1.0</td>\n",
       "      <td>2013-12-02 12:36:00</td>\n",
       "      <td>2012-03-12 15:44:00</td>\n",
       "      <td>1</td>\n",
       "      <td>2013-12-02 12:31:00</td>\n",
       "      <td>2</td>\n",
       "    </tr>\n",
       "    <tr>\n",
       "      <th>2</th>\n",
       "      <td>1</td>\n",
       "      <td>incident</td>\n",
       "      <td>3</td>\n",
       "      <td>65</td>\n",
       "      <td>13</td>\n",
       "      <td>0.0</td>\n",
       "      <td>1.0</td>\n",
       "      <td>2013-11-14 09:31:00</td>\n",
       "      <td>2012-07-17 11:49:00</td>\n",
       "      <td>0</td>\n",
       "      <td>NaN</td>\n",
       "      <td>3</td>\n",
       "    </tr>\n",
       "    <tr>\n",
       "      <th>3</th>\n",
       "      <td>1</td>\n",
       "      <td>incident</td>\n",
       "      <td>4</td>\n",
       "      <td>65</td>\n",
       "      <td>2</td>\n",
       "      <td>0.0</td>\n",
       "      <td>1.0</td>\n",
       "      <td>2013-11-08 13:55:00</td>\n",
       "      <td>2012-08-10 11:01:00</td>\n",
       "      <td>0</td>\n",
       "      <td>NaN</td>\n",
       "      <td>3</td>\n",
       "    </tr>\n",
       "    <tr>\n",
       "      <th>4</th>\n",
       "      <td>1</td>\n",
       "      <td>incident</td>\n",
       "      <td>4</td>\n",
       "      <td>65</td>\n",
       "      <td>4</td>\n",
       "      <td>0.0</td>\n",
       "      <td>1.0</td>\n",
       "      <td>2013-11-08 13:54:00</td>\n",
       "      <td>2012-08-10 11:27:00</td>\n",
       "      <td>0</td>\n",
       "      <td>NaN</td>\n",
       "      <td>3</td>\n",
       "    </tr>\n",
       "  </tbody>\n",
       "</table>\n",
       "</div>"
      ],
      "text/plain": [
       "   c_CI_Cat c_Category  c_Closure_Code  c_WBS  q_No_of_Reassignments  \\\n",
       "0        11   incident               4    126                     26   \n",
       "1         1   incident               6     65                     33   \n",
       "2         1   incident               3     65                     13   \n",
       "3         1   incident               4     65                      2   \n",
       "4         1   incident               4     65                      4   \n",
       "\n",
       "   q_No_of_Related_Incidents  q_No_of_Related_Interactions  \\\n",
       "0                        2.0                           1.0   \n",
       "1                        1.0                           1.0   \n",
       "2                        0.0                           1.0   \n",
       "3                        0.0                           1.0   \n",
       "4                        0.0                           1.0   \n",
       "\n",
       "          t_Close_Time          t_Open_Time  t_Reopen_Flag  \\\n",
       "0  2013-11-04 13:51:00  2012-02-05 13:32:00              0   \n",
       "1  2013-12-02 12:36:00  2012-03-12 15:44:00              1   \n",
       "2  2013-11-14 09:31:00  2012-07-17 11:49:00              0   \n",
       "3  2013-11-08 13:55:00  2012-08-10 11:01:00              0   \n",
       "4  2013-11-08 13:54:00  2012-08-10 11:27:00              0   \n",
       "\n",
       "         t_Reopen_Time  y_Priority  \n",
       "0                  NaN           3  \n",
       "1  2013-12-02 12:31:00           2  \n",
       "2                  NaN           3  \n",
       "3                  NaN           3  \n",
       "4                  NaN           3  "
      ]
     },
     "execution_count": 15,
     "metadata": {},
     "output_type": "execute_result"
    }
   ],
   "source": [
    "df1=pd.read_csv('1_ITSM_cleansed_Encoded.csv')\n",
    "df1.head()"
   ]
  },
  {
   "cell_type": "code",
   "execution_count": 18,
   "metadata": {},
   "outputs": [
    {
     "data": {
      "text/html": [
       "<div>\n",
       "<style scoped>\n",
       "    .dataframe tbody tr th:only-of-type {\n",
       "        vertical-align: middle;\n",
       "    }\n",
       "\n",
       "    .dataframe tbody tr th {\n",
       "        vertical-align: top;\n",
       "    }\n",
       "\n",
       "    .dataframe thead th {\n",
       "        text-align: right;\n",
       "    }\n",
       "</style>\n",
       "<table border=\"1\" class=\"dataframe\">\n",
       "  <thead>\n",
       "    <tr style=\"text-align: right;\">\n",
       "      <th></th>\n",
       "      <th>c_CI_Cat</th>\n",
       "      <th>c_Closure_Code</th>\n",
       "      <th>q_No_of_Reassignments</th>\n",
       "      <th>q_No_of_Related_Incidents</th>\n",
       "      <th>q_No_of_Related_Interactions</th>\n",
       "      <th>t_Close_Time</th>\n",
       "      <th>t_Open_Time</th>\n",
       "      <th>t_Reopen_Flag</th>\n",
       "      <th>t_Reopen_Time</th>\n",
       "      <th>y_Priority</th>\n",
       "    </tr>\n",
       "  </thead>\n",
       "  <tbody>\n",
       "    <tr>\n",
       "      <th>0</th>\n",
       "      <td>11</td>\n",
       "      <td>4</td>\n",
       "      <td>26</td>\n",
       "      <td>2.0</td>\n",
       "      <td>1.0</td>\n",
       "      <td>2013-11-04 13:51:00</td>\n",
       "      <td>2012-02-05 13:32:00</td>\n",
       "      <td>0</td>\n",
       "      <td>NaN</td>\n",
       "      <td>3</td>\n",
       "    </tr>\n",
       "    <tr>\n",
       "      <th>1</th>\n",
       "      <td>1</td>\n",
       "      <td>6</td>\n",
       "      <td>33</td>\n",
       "      <td>1.0</td>\n",
       "      <td>1.0</td>\n",
       "      <td>2013-12-02 12:36:00</td>\n",
       "      <td>2012-03-12 15:44:00</td>\n",
       "      <td>1</td>\n",
       "      <td>2013-12-02 12:31:00</td>\n",
       "      <td>2</td>\n",
       "    </tr>\n",
       "    <tr>\n",
       "      <th>2</th>\n",
       "      <td>1</td>\n",
       "      <td>3</td>\n",
       "      <td>13</td>\n",
       "      <td>0.0</td>\n",
       "      <td>1.0</td>\n",
       "      <td>2013-11-14 09:31:00</td>\n",
       "      <td>2012-07-17 11:49:00</td>\n",
       "      <td>0</td>\n",
       "      <td>NaN</td>\n",
       "      <td>3</td>\n",
       "    </tr>\n",
       "    <tr>\n",
       "      <th>3</th>\n",
       "      <td>1</td>\n",
       "      <td>4</td>\n",
       "      <td>2</td>\n",
       "      <td>0.0</td>\n",
       "      <td>1.0</td>\n",
       "      <td>2013-11-08 13:55:00</td>\n",
       "      <td>2012-08-10 11:01:00</td>\n",
       "      <td>0</td>\n",
       "      <td>NaN</td>\n",
       "      <td>3</td>\n",
       "    </tr>\n",
       "    <tr>\n",
       "      <th>4</th>\n",
       "      <td>1</td>\n",
       "      <td>4</td>\n",
       "      <td>4</td>\n",
       "      <td>0.0</td>\n",
       "      <td>1.0</td>\n",
       "      <td>2013-11-08 13:54:00</td>\n",
       "      <td>2012-08-10 11:27:00</td>\n",
       "      <td>0</td>\n",
       "      <td>NaN</td>\n",
       "      <td>3</td>\n",
       "    </tr>\n",
       "  </tbody>\n",
       "</table>\n",
       "</div>"
      ],
      "text/plain": [
       "   c_CI_Cat  c_Closure_Code  q_No_of_Reassignments  q_No_of_Related_Incidents  \\\n",
       "0        11               4                     26                        2.0   \n",
       "1         1               6                     33                        1.0   \n",
       "2         1               3                     13                        0.0   \n",
       "3         1               4                      2                        0.0   \n",
       "4         1               4                      4                        0.0   \n",
       "\n",
       "   q_No_of_Related_Interactions         t_Close_Time          t_Open_Time  \\\n",
       "0                           1.0  2013-11-04 13:51:00  2012-02-05 13:32:00   \n",
       "1                           1.0  2013-12-02 12:36:00  2012-03-12 15:44:00   \n",
       "2                           1.0  2013-11-14 09:31:00  2012-07-17 11:49:00   \n",
       "3                           1.0  2013-11-08 13:55:00  2012-08-10 11:01:00   \n",
       "4                           1.0  2013-11-08 13:54:00  2012-08-10 11:27:00   \n",
       "\n",
       "   t_Reopen_Flag        t_Reopen_Time  y_Priority  \n",
       "0              0                  NaN           3  \n",
       "1              1  2013-12-02 12:31:00           2  \n",
       "2              0                  NaN           3  \n",
       "3              0                  NaN           3  \n",
       "4              0                  NaN           3  "
      ]
     },
     "execution_count": 18,
     "metadata": {},
     "output_type": "execute_result"
    }
   ],
   "source": [
    "deleteColList=['c_Category']\n",
    "df1.drop(deleteColList,inplace=True,axis=1)\n",
    "df1=df1.sort_index(axis=1)\n",
    "df1.head()"
   ]
  },
  {
   "cell_type": "code",
   "execution_count": null,
   "metadata": {},
   "outputs": [],
   "source": []
  },
  {
   "cell_type": "code",
   "execution_count": null,
   "metadata": {},
   "outputs": [],
   "source": []
  },
  {
   "cell_type": "code",
   "execution_count": null,
   "metadata": {},
   "outputs": [],
   "source": []
  },
  {
   "cell_type": "code",
   "execution_count": null,
   "metadata": {},
   "outputs": [],
   "source": []
  }
 ],
 "metadata": {
  "kernelspec": {
   "display_name": "Python 3",
   "language": "python",
   "name": "python3"
  },
  "language_info": {
   "codemirror_mode": {
    "name": "ipython",
    "version": 3
   },
   "file_extension": ".py",
   "mimetype": "text/x-python",
   "name": "python",
   "nbconvert_exporter": "python",
   "pygments_lexer": "ipython3",
   "version": "3.7.0"
  }
 },
 "nbformat": 4,
 "nbformat_minor": 2
}
